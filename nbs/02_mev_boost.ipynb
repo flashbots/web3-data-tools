{
 "cells": [
  {
   "cell_type": "raw",
   "metadata": {},
   "source": [
    "---\n",
    "skip_showdoc: true\n",
    "skip_exec: true\n",
    "---"
   ]
  },
  {
   "cell_type": "code",
   "execution_count": null,
   "metadata": {},
   "outputs": [],
   "source": [
    "#| default_exp mev_boost"
   ]
  },
  {
   "cell_type": "markdown",
   "metadata": {},
   "source": [
    "# MEV-Boost Relays\n",
    "> mev-boost python wrapper (inspired by [Toni Wahrstätter's mevboost.pics](https://github.com/Nerolation/mevboost.pics))"
   ]
  },
  {
   "cell_type": "markdown",
   "metadata": {},
   "source": [
    "## Imports -"
   ]
  },
  {
   "cell_type": "code",
   "execution_count": null,
   "metadata": {},
   "outputs": [],
   "source": [
    "#| hide\n",
    "from nbdev.showdoc import *"
   ]
  },
  {
   "cell_type": "code",
   "execution_count": null,
   "metadata": {},
   "outputs": [],
   "source": [
    "#| export\n",
    "from bisect import bisect_left\n",
    "from functools import cache\n",
    "\n",
    "import requests\n",
    "\n",
    "from web3_data_tools.web3 import MultiRPCWeb3, FIRST_POS_BLOCK\n",
    "from web3_data_tools.core import interpolation_search"
   ]
  },
  {
   "cell_type": "markdown",
   "metadata": {},
   "source": [
    "## Constants"
   ]
  },
  {
   "cell_type": "code",
   "execution_count": null,
   "metadata": {},
   "outputs": [],
   "source": [
    "#| exports\n",
    "FIRST_POS_SLOT = 4700013 "
   ]
  },
  {
   "cell_type": "code",
   "execution_count": null,
   "metadata": {},
   "outputs": [],
   "source": [
    "#| exports\n",
    "fb = \"https://boost-relay.flashbots.net\"\n",
    "# et = \"https://bloxroute.ethical.blxrbdn.com\"\n",
    "mp = \"https://bloxroute.max-profit.blxrbdn.com\"\n",
    "mr = \"https://bloxroute.regulated.blxrbdn.com\"\n",
    "mf = \"https://mainnet-relay.securerpc.com\"\n",
    "ed = \"https://relay.edennetwork.io\"\n",
    "bn = \"https://builder-relay-mainnet.blocknative.com\"\n",
    "# rl = \"https://relayooor.wtf\"\n",
    "ul = \"https://relay.ultrasound.money\"\n",
    "ag = \"https://agnostic-relay.net\"\n",
    "ae = \"https://mainnet.aestus.live\"\n",
    "ae = \"https://aestus.live\"\n",
    "wm = \"https://relay.wenmerge.com/\""
   ]
  },
  {
   "cell_type": "code",
   "execution_count": null,
   "metadata": {},
   "outputs": [],
   "source": [
    "#| exports\n",
    "all_relays = [fb, mp, mr, mf, ed, bn, ul, ag, ae, wm]"
   ]
  },
  {
   "cell_type": "markdown",
   "metadata": {},
   "source": [
    "## Relay -"
   ]
  },
  {
   "cell_type": "code",
   "execution_count": null,
   "metadata": {},
   "outputs": [],
   "source": [
    "#| export\n",
    "class Relay:\n",
    "    \"A class for interacting with a relay's API\"\n",
    "    def __init__(self, path, *rpcs):\n",
    "        \"path is the base url of the relay's API\"\n",
    "        self.path = path\n",
    "        if len(rpcs)==1 and isinstance(rpcs[0], MultiRPCWeb3):\n",
    "            self.w3 = rpcs[0]\n",
    "        else:\n",
    "            self.w3 = MultiRPCWeb3.from_rpcs(*rpcs)\n",
    "        self.calls = 0\n",
    "        self.slot2block_cache = {}\n",
    "\n",
    "    @cache\n",
    "    def proposer_payload_delivered(self, limit=None, cursor=None, block_number=None, order_by=None):\n",
    "        \"Get proposer payloads delivered by the relay\"\n",
    "        self.calls += 1\n",
    "        path = f'{self.path}/relay/v1/data/bidtraces/proposer_payload_delivered?'\n",
    "        params = [f'limit={limit}', f'cursor={cursor}', f'block_number={block_number}', f'order_by={order_by}']\n",
    "        params = [x for x, y in zip(params, [limit, cursor, block_number, order_by]) if y is not None]\n",
    "        path += '&'.join(params)\n",
    "        r = requests.get(path)\n",
    "        out = r.json()\n",
    "        for o in out:\n",
    "            o['slot'] = int(o['slot'])\n",
    "            o['block_number'] = int(o['block_number'])\n",
    "            o['value'] = float(o['value'])\n",
    "            o['gas_used'] = int(o['gas_used'])\n",
    "            o['gas_limit'] = int(o['gas_limit'])\n",
    "            o['num_tx'] = int(o['num_tx'])\n",
    "        return out\n",
    "    \n",
    "    def get_first_slot(self, lo=None, hi=None):\n",
    "        if lo is None:\n",
    "            lo = FIRST_POS_SLOT\n",
    "        self.getitem = self.slot_has_data\n",
    "        first_slot = bisect_left(self, 1, lo=lo, hi=hi)\n",
    "        self.getitem = self.get_slot_payload\n",
    "        return first_slot\n",
    "    \n",
    "    def find_slot_at_block_number(self, block_number, low=None, high=None, how='left'):\n",
    "        if low is None:\n",
    "            low = self.get_first_slot()\n",
    "        self.getitem = self.get_slot_block_number\n",
    "        if self[low] > block_number:\n",
    "            return None\n",
    "        out = interpolation_search(self, block_number, low=low, high=high, how=how)\n",
    "        self.getitem = self.get_slot_payload\n",
    "        return out\n",
    "    \n",
    "    def find_slot_at_timestamp(self, timestamp, low_slot=None, high_slot=None, how='left'):\n",
    "        if low_slot is None:\n",
    "            low_slot = self.get_first_slot()\n",
    "        low_block = self.get_slot_block_number(low_slot)\n",
    "        if high_slot is None:\n",
    "            high_block = None\n",
    "        else:\n",
    "            high_block = self.get_slot_block_number(high_slot)\n",
    "        if self.w3[low_block] > timestamp:\n",
    "            return None\n",
    "        block_number = interpolation_search(self.w3, timestamp, low=low_block, high=high_block, how=how)\n",
    "        out = self.find_slot_at_block_number(block_number, low=low_slot, high=high_slot, how=how)\n",
    "        return out\n",
    "\n",
    "    def get_slot_payload(self, slot):\n",
    "        out = self.proposer_payload_delivered(limit=1, cursor=slot)\n",
    "        if len(out)>0:\n",
    "            return out[0]\n",
    "        return None\n",
    "    \n",
    "    def slot_has_data(self, slot):\n",
    "        return not self.get_slot_payload(slot) is None\n",
    "    \n",
    "    def get_slot_block_number(self, slot):\n",
    "        if slot in self.slot2block_cache:\n",
    "            return self.slot2block_cache[slot]\n",
    "        payloads = self.proposer_payload_delivered(limit=100, cursor=slot)\n",
    "        for p0, p1 in zip(payloads[1:], payloads[:-1]):\n",
    "            block_number = p0['block_number']\n",
    "            for s in range(p0['slot'], p1['slot']):\n",
    "                self.slot2block_cache[s] = block_number\n",
    "        block_number = payloads[0]['block_number']\n",
    "        for s in range(payloads[0]['slot'], slot+1):\n",
    "            self.slot2block_cache[s] = block_number\n",
    "        return block_number\n",
    "\n",
    "    def getitem(self, slot):\n",
    "        return self.get_slot_payload(slot)\n",
    "\n",
    "    def __getitem__(self, slot):\n",
    "        return self.getitem(slot)\n",
    "\n",
    "    def __len__(self):\n",
    "        return int(self.proposer_payload_delivered(limit=1)[0]['slot'])\n",
    "    \n",
    "    def iter_payloads_in_slot_range(self, min_slot, max_slot):\n",
    "        cursor = max_slot\n",
    "        for _ in range((max_slot-min_slot)//100+1):\n",
    "            payloads = self.proposer_payload_delivered(limit=100, cursor=cursor)\n",
    "            for payload in payloads:\n",
    "                cursor = payload['slot'] - 1\n",
    "                if cursor < min_slot:\n",
    "                    return\n",
    "                yield payload\n",
    "    \n",
    "    def get_payloads_between_timestamps(self, min_timestamp, max_timestamp, min_block_number=None, max_block_number=None):\n",
    "        \"Returns all payloads between min_timestamp and max_timestamp, inclusive.\"\n",
    "        min_slot = self.find_slot_at_timestamp(min_timestamp, how='right')\n",
    "        if min_slot is None:\n",
    "            return []\n",
    "        max_slot = self.find_slot_at_timestamp(max_timestamp, low_slot=min_slot, how='left')\n",
    "        return list(self.iter_payloads_in_slot_range(min_slot, max_slot))\n",
    "\n",
    "    def get_payloads_between_block_numbers(self, min_block_number, max_block_number):\n",
    "        \"Returns all payloads between min_block_number and max_block_number, inclusive.\"\n",
    "        min_slot = self.find_slot_at_block_number(min_block_number - 1, how='right')\n",
    "        if min_slot is None:\n",
    "            return []\n",
    "        max_slot = self.find_slot_at_block_number(max_block_number + 1, low=min_slot, how='left')\n",
    "        if max_slot is None:\n",
    "            return []\n",
    "        return list(self.iter_payloads_in_slot_range(min_slot, max_slot))"
   ]
  },
  {
   "cell_type": "code",
   "execution_count": null,
   "metadata": {},
   "outputs": [
    {
     "data": {
      "text/markdown": [
       "---\n",
       "\n",
       "[source](https://github.com/flashbots/web3-data-tools/blob/main/web3_data_tools/mev_boost.py#L38){target=\"_blank\" style=\"float:right; font-size:smaller\"}\n",
       "\n",
       "### Relay\n",
       "\n",
       ">      Relay (path, *rpcs)\n",
       "\n",
       "A class for interacting with a relay's API"
      ],
      "text/plain": [
       "---\n",
       "\n",
       "[source](https://github.com/flashbots/web3-data-tools/blob/main/web3_data_tools/mev_boost.py#L38){target=\"_blank\" style=\"float:right; font-size:smaller\"}\n",
       "\n",
       "### Relay\n",
       "\n",
       ">      Relay (path, *rpcs)\n",
       "\n",
       "A class for interacting with a relay's API"
      ]
     },
     "execution_count": null,
     "metadata": {},
     "output_type": "execute_result"
    }
   ],
   "source": [
    "show_doc(Relay)"
   ]
  },
  {
   "cell_type": "code",
   "execution_count": null,
   "metadata": {},
   "outputs": [
    {
     "data": {
      "text/markdown": [
       "---\n",
       "\n",
       "[source](https://github.com/flashbots/web3-data-tools/blob/main/web3_data_tools/mev_boost.py#L52){target=\"_blank\" style=\"float:right; font-size:smaller\"}\n",
       "\n",
       "### Relay.proposer_payload_delivered\n",
       "\n",
       ">      Relay.proposer_payload_delivered (limit=None, cursor=None,\n",
       ">                                        block_number=None, order_by=None)\n",
       "\n",
       "Get proposer payloads delivered by the relay"
      ],
      "text/plain": [
       "---\n",
       "\n",
       "[source](https://github.com/flashbots/web3-data-tools/blob/main/web3_data_tools/mev_boost.py#L52){target=\"_blank\" style=\"float:right; font-size:smaller\"}\n",
       "\n",
       "### Relay.proposer_payload_delivered\n",
       "\n",
       ">      Relay.proposer_payload_delivered (limit=None, cursor=None,\n",
       ">                                        block_number=None, order_by=None)\n",
       "\n",
       "Get proposer payloads delivered by the relay"
      ]
     },
     "execution_count": null,
     "metadata": {},
     "output_type": "execute_result"
    }
   ],
   "source": [
    "show_doc(Relay.proposer_payload_delivered)"
   ]
  },
  {
   "cell_type": "code",
   "execution_count": null,
   "metadata": {},
   "outputs": [
    {
     "data": {
      "text/markdown": [
       "---\n",
       "\n",
       "[source](https://github.com/flashbots/web3-data-tools/blob/main/web3_data_tools/mev_boost.py#L143){target=\"_blank\" style=\"float:right; font-size:smaller\"}\n",
       "\n",
       "### Relay.get_payloads_between_timestamps\n",
       "\n",
       ">      Relay.get_payloads_between_timestamps (min_timestamp, max_timestamp,\n",
       ">                                             min_block_number=None,\n",
       ">                                             max_block_number=None)"
      ],
      "text/plain": [
       "---\n",
       "\n",
       "[source](https://github.com/flashbots/web3-data-tools/blob/main/web3_data_tools/mev_boost.py#L143){target=\"_blank\" style=\"float:right; font-size:smaller\"}\n",
       "\n",
       "### Relay.get_payloads_between_timestamps\n",
       "\n",
       ">      Relay.get_payloads_between_timestamps (min_timestamp, max_timestamp,\n",
       ">                                             min_block_number=None,\n",
       ">                                             max_block_number=None)"
      ]
     },
     "execution_count": null,
     "metadata": {},
     "output_type": "execute_result"
    }
   ],
   "source": [
    "show_doc(Relay.get_payloads_between_timestamps)"
   ]
  },
  {
   "cell_type": "code",
   "execution_count": null,
   "metadata": {},
   "outputs": [
    {
     "data": {
      "text/markdown": [
       "---\n",
       "\n",
       "[source](https://github.com/flashbots/web3-data-tools/blob/main/web3_data_tools/mev_boost.py#L150){target=\"_blank\" style=\"float:right; font-size:smaller\"}\n",
       "\n",
       "### Relay.get_payloads_between_block_numbers\n",
       "\n",
       ">      Relay.get_payloads_between_block_numbers (min_block_number,\n",
       ">                                                max_block_number)"
      ],
      "text/plain": [
       "---\n",
       "\n",
       "[source](https://github.com/flashbots/web3-data-tools/blob/main/web3_data_tools/mev_boost.py#L150){target=\"_blank\" style=\"float:right; font-size:smaller\"}\n",
       "\n",
       "### Relay.get_payloads_between_block_numbers\n",
       "\n",
       ">      Relay.get_payloads_between_block_numbers (min_block_number,\n",
       ">                                                max_block_number)"
      ]
     },
     "execution_count": null,
     "metadata": {},
     "output_type": "execute_result"
    }
   ],
   "source": [
    "show_doc(Relay.get_payloads_between_block_numbers)"
   ]
  },
  {
   "cell_type": "markdown",
   "metadata": {},
   "source": [
    "## Example"
   ]
  },
  {
   "cell_type": "code",
   "execution_count": null,
   "metadata": {},
   "outputs": [],
   "source": [
    "import os\n",
    "from datetime import datetime, timedelta, timezone\n",
    "import pandas as pd"
   ]
  },
  {
   "cell_type": "code",
   "execution_count": null,
   "metadata": {},
   "outputs": [],
   "source": [
    "RPC = os.environ['RPC']\n",
    "relay = Relay(ae, RPC)"
   ]
  },
  {
   "cell_type": "markdown",
   "metadata": {},
   "source": [
    "Fetch payloads by timestamp"
   ]
  },
  {
   "cell_type": "code",
   "execution_count": null,
   "metadata": {},
   "outputs": [],
   "source": [
    "min_datetime = datetime(2023, 8, 1, tzinfo=timezone.utc)\n",
    "max_datetime = min_datetime + timedelta(days=1)\n",
    "min_timestamp = min_datetime.timestamp()\n",
    "max_timestamp = max_datetime.timestamp()"
   ]
  },
  {
   "cell_type": "code",
   "execution_count": null,
   "metadata": {},
   "outputs": [],
   "source": [
    "payloads = relay.get_payloads_between_timestamps(min_timestamp, max_timestamp)"
   ]
  },
  {
   "cell_type": "code",
   "execution_count": null,
   "metadata": {},
   "outputs": [
    {
     "data": {
      "text/plain": [
       "328"
      ]
     },
     "execution_count": null,
     "metadata": {},
     "output_type": "execute_result"
    }
   ],
   "source": [
    "len(payloads)"
   ]
  },
  {
   "cell_type": "markdown",
   "metadata": {},
   "source": [
    "Fetch  payloads by block number"
   ]
  },
  {
   "cell_type": "code",
   "execution_count": null,
   "metadata": {},
   "outputs": [],
   "source": [
    "w3 = MultiRPCWeb3.from_rpcs(RPC)\n",
    "min_block_number = interpolation_search(w3, min_timestamp, low=FIRST_POS_BLOCK, how='right')\n",
    "max_block_number = interpolation_search(w3, max_timestamp, low=min_block_number, how='left')\n",
    "payloads = relay.get_payloads_between_block_numbers(min_block_number, max_block_number)"
   ]
  },
  {
   "cell_type": "markdown",
   "metadata": {},
   "source": [
    "## Export -"
   ]
  },
  {
   "cell_type": "code",
   "execution_count": null,
   "metadata": {},
   "outputs": [],
   "source": [
    "#| hide\n",
    "import nbdev; nbdev.nbdev_export()"
   ]
  }
 ],
 "metadata": {
  "kernelspec": {
   "display_name": "python3",
   "language": "python",
   "name": "python3"
  }
 },
 "nbformat": 4,
 "nbformat_minor": 2
}
