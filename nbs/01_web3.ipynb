{
 "cells": [
  {
   "cell_type": "raw",
   "metadata": {},
   "source": [
    "---\n",
    "skip_showdoc: true\n",
    "skip_exec: false\n",
    "---"
   ]
  },
  {
   "cell_type": "code",
   "execution_count": null,
   "metadata": {},
   "outputs": [],
   "source": [
    "#| default_exp web3"
   ]
  },
  {
   "cell_type": "markdown",
   "metadata": {},
   "source": [
    "# Web3\n",
    "> web3 wrapper"
   ]
  },
  {
   "cell_type": "markdown",
   "metadata": {},
   "source": [
    "## Imports -"
   ]
  },
  {
   "cell_type": "code",
   "execution_count": null,
   "metadata": {},
   "outputs": [],
   "source": [
    "#| hide\n",
    "from nbdev.showdoc import *"
   ]
  },
  {
   "cell_type": "code",
   "execution_count": null,
   "metadata": {},
   "outputs": [],
   "source": [
    "#| export\n",
    "import asyncio\n",
    "from typing import Union, Optional, Literal\n",
    "from datetime import datetime\n",
    "from functools import update_wrapper\n",
    "import inspect\n",
    "\n",
    "from fastcore.all import custom_dir, test_fail, listify, test_eq, test\n",
    "from web3 import Web3, AsyncWeb3\n",
    "from web3.method import Method\n",
    "from web3.middleware import async_geth_poa_middleware\n",
    "\n",
    "from web3_data_tools.core import ainterpolation_search, interpolation_search , batched"
   ]
  },
  {
   "cell_type": "code",
   "execution_count": null,
   "metadata": {},
   "outputs": [],
   "source": [
    "#| export\n",
    "FIRST_POS_BLOCK = 15537394"
   ]
  },
  {
   "cell_type": "code",
   "execution_count": null,
   "metadata": {},
   "outputs": [
    {
     "data": {
      "text/plain": [
       "False"
      ]
     },
     "execution_count": null,
     "metadata": {},
     "output_type": "execute_result"
    }
   ],
   "source": [
    "x = 'a'\n",
    "isinstance(x, (list, dict))"
   ]
  },
  {
   "cell_type": "markdown",
   "metadata": {},
   "source": [
    "## MultiRPCWeb3 -"
   ]
  },
  {
   "cell_type": "code",
   "execution_count": null,
   "metadata": {},
   "outputs": [],
   "source": [
    "#| export\n",
    "class MultiRPCWeb3:\n",
    "    \"\"\"Web3 object that tries to execute a method in multiple RPCs until one succeeds.\"\"\"\n",
    "\n",
    "    def __init__(self\n",
    "                 , *rpcs # list of Web3 objects\n",
    "                 , providers=None # list of provider objects\n",
    "                 , poa=False # whether the network is a POA network\n",
    "                 ):\n",
    "        \"\"\"Initialize the MultiRPCWeb3 object.\"\"\"\n",
    "        self.rpcs = rpcs\n",
    "        self.providers = providers\n",
    "        if not self.providers:\n",
    "            self.providers = []\n",
    "            for rpc in self.rpcs:\n",
    "                if hasattr(rpc, 'provider'):\n",
    "                    self.providers.append(rpc.provider)\n",
    "\n",
    "        # hardcode genesis block timestamp (RPCs don't have it right)\n",
    "        self.cache = {0: 1438269973}\n",
    "\n",
    "        # add get_block_receipts method. Some RPCs have it some don't.\n",
    "        for rpc in self.rpcs:\n",
    "            if isinstance(rpc, (Web3, AsyncWeb3)):\n",
    "                rpc.eth.attach_methods({\"get_block_receipts\": Method(\"eth_getBlockReceipts\")})\n",
    "\n",
    "        if poa:\n",
    "            self.middleware_onion.inject(async_geth_poa_middleware, layer=0)\n",
    "\n",
    "    @classmethod\n",
    "    def from_rpcs(obj\n",
    "                  , *rpcs # list of RPC URIs\n",
    "                  ):\n",
    "        \"\"\"Create a MultiRPCWeb3 object from a list of RPC URIs.\"\"\"\n",
    "        return obj(*[Web3(Web3.HTTPProvider(rpc)) for rpc in rpcs])\n",
    "\n",
    "    @classmethod\n",
    "    def async_from_rpcs(obj\n",
    "                        , *rpcs # list of RPC URIs\n",
    "                        ):\n",
    "        \"\"\"Create an async MultiRPCWeb3 object from a list of RPC URIs.\"\"\"\n",
    "        return obj(*[AsyncWeb3(AsyncWeb3.AsyncHTTPProvider(rpc)) for rpc in rpcs])\n",
    "\n",
    "    def __dir__(self): return custom_dir(self, add=self.rpcs[0].__dir__())\n",
    "\n",
    "    def __getattr__(self, attr):\n",
    "\n",
    "        def wrapper(*args, **kwargs):\n",
    "            for i, (provider, rpc) in enumerate(zip(self.providers, self.rpcs)):\n",
    "                try:\n",
    "                    return rpc.__getattribute__(attr)(*args, **kwargs)\n",
    "                except Exception as e:\n",
    "                    print(f'{provider} failed with: {e}')\n",
    "                    if i < len(self.providers) - 1:\n",
    "                        print(f'Trying {self.providers[i+1]}')\n",
    "                    else:\n",
    "                        print(f\"All the RPCs failed to execute '{attr}'\")\n",
    "                        raise e\n",
    "\n",
    "        async def awrapper(*args, **kwargs):\n",
    "            for i, (provider, rpc) in enumerate(zip(self.providers, self.rpcs)):\n",
    "                try:\n",
    "                    return await rpc.__getattribute__(attr)(*args, **kwargs)\n",
    "                except Exception as e:\n",
    "                    print(f'{provider} failed with: {e}')\n",
    "                    if i < len(self.providers) - 1:\n",
    "                        print(f'Trying {self.providers[i+1]}')\n",
    "                    else:\n",
    "                        print(f\"All the RPCs failed to execute '{attr}'\")\n",
    "                        raise e\n",
    "\n",
    "        for rpc in self.rpcs:\n",
    "            rpc_attr = rpc.__getattribute__(attr)\n",
    "            if callable(rpc_attr) and not inspect.iscoroutinefunction(rpc_attr):\n",
    "                return update_wrapper(wrapper, rpc_attr)\n",
    "            elif inspect.iscoroutinefunction(rpc_attr):\n",
    "                return update_wrapper(awrapper, rpc_attr)\n",
    "            elif attr in rpc.__dict__:\n",
    "                return MultiRPCWeb3(*[rpc.__getattribute__(attr) for rpc in self.rpcs], providers=self.providers)\n",
    "            elif attr in self.__dict__:\n",
    "                return self.__getattribute__(attr)\n",
    "        raise AttributeError(f\"Attribute '{attr}' not found in any of the RPCs\")\n",
    "\n",
    "    def sort_providers(self\n",
    "                       , tolerance: int=0 # number of blocks to consider the same\n",
    "                       ):\n",
    "        \"\"\"Sort provider by block number, so that the one with the highest block number is first.\"\"\"\n",
    "        rpcs = self.rpcs[:]\n",
    "        providers = self.providers[:]\n",
    "        last_block_number = []\n",
    "        for i, (rpc, provider) in enumerate(zip(rpcs, providers)):\n",
    "            self.rpcs = [rpc]\n",
    "            self.providers = [provider]\n",
    "            try:\n",
    "                block_number = self.eth.get_block_number()\n",
    "                last_block_number.append(block_number)\n",
    "            except Exception as e:\n",
    "                print(f'{provider} failed with: {e}')\n",
    "                last_block_number.append(-1)\n",
    "        max_block_number = max(last_block_number)\n",
    "        for i in range(len(last_block_number)):\n",
    "            if last_block_number[i] >= max_block_number - tolerance:\n",
    "                last_block_number[i] = max_block_number\n",
    "        index = sorted(range(len(last_block_number)), key=lambda k: last_block_number[k], reverse=True)\n",
    "        self.rpcs = [rpcs[i] for i in index]\n",
    "        self.providers = [providers[i] for i in index]\n",
    "        return [p.endpoint_uri for p in self.providers]\n",
    "\n",
    "    async def asort_providers(self\n",
    "                              , tolerance: int=0 # number of blocks to consider the same\n",
    "                              ):\n",
    "        \"\"\"Sort provider by block number, so that the one with the highest block number is first.\"\"\"\n",
    "        rpcs = self.rpcs[:]\n",
    "        providers = self.providers[:]\n",
    "        last_block_number = []\n",
    "        for i, (rpc, provider) in enumerate(zip(rpcs, providers)):\n",
    "            self.rpcs = [rpc]\n",
    "            self.providers = [provider]\n",
    "            try:\n",
    "                if inspect.iscoroutinefunction(self.eth.get_block_number):\n",
    "                    block_number = await self.eth.get_block_number()\n",
    "                else:\n",
    "                    block_number = self.eth.get_block_number()\n",
    "                last_block_number.append(block_number)\n",
    "            except Exception as e:\n",
    "                print(f'{provider} failed with: {e}')\n",
    "                last_block_number.append(-1)\n",
    "        max_block_number = max(last_block_number)\n",
    "        for i in range(len(last_block_number)):\n",
    "            if last_block_number[i] >= max_block_number - tolerance:\n",
    "                last_block_number[i] = max_block_number\n",
    "        index = sorted(range(len(last_block_number)), key=lambda k: last_block_number[k], reverse=True)\n",
    "        self.rpcs = [rpcs[i] for i in index]\n",
    "        self.providers = [providers[i] for i in index]\n",
    "        return [p.endpoint_uri for p in self.providers]\n",
    "\n",
    "    def __getitem__(self\n",
    "                    , block_number: int # block number to get the timestamp of\n",
    "                    ):\n",
    "        \"\"\"The user can get the timestamp of a block by using the syntax `web3[block_number]`.\"\"\"\n",
    "        if block_number in self.cache:\n",
    "            return self.cache[block_number]\n",
    "        if block_number==-1:\n",
    "            block_number = 'latest'\n",
    "        block = self.eth.get_block(block_number)\n",
    "        if block_number=='latest':\n",
    "            block_number = block['number']\n",
    "        self.cache[block_number] = block['timestamp']\n",
    "        return block['timestamp']\n",
    "\n",
    "    async def agetitem(self\n",
    "                       , block_number: int # block number to get the timestamp of\n",
    "                       ):\n",
    "        \"\"\"The user can get the timestamp of a block by using the syntax `web3[block_number]`.\"\"\"\n",
    "        if block_number in self.cache:\n",
    "            return self.cache[block_number]\n",
    "        if block_number==-1:\n",
    "            block_number = 'latest'\n",
    "        block = await self.eth.get_block(block_number)\n",
    "        if block_number=='latest':\n",
    "            block_number = block['number']\n",
    "        self.cache[block_number] = block['timestamp']\n",
    "        return block['timestamp']\n",
    "    \n",
    "    def __len__(self):\n",
    "        \"\"\"Returns the number of blocks in the blockchain.\"\"\"\n",
    "        return self.eth.get_block_number()\n",
    "\n",
    "    async def alen(self): \n",
    "        \"\"\"Returns the number of blocks in the blockchain.\"\"\"\n",
    "        return await self.eth.get_block_number()\n",
    "\n",
    "    def find_block_at_timestamp(self\n",
    "                                , timestamp: Union[datetime, int] # timestamp to search for\n",
    "                                , low: Optional[int]=None # block number to start the search from\n",
    "                                , high: Optional[int]=None # block number to end the search at\n",
    "                                , how: Literal['after', 'before'] ='after' # whether to search for the block after or before the timestamp\n",
    "                                ):\n",
    "        \"\"\"Finds a block at a specific timestamp.\"\"\"\n",
    "        if isinstance(timestamp, datetime):\n",
    "            timestamp = timestamp.timestamp()\n",
    "        how = {'after': 'right', 'before': 'left'}[how]\n",
    "        if high is None:\n",
    "            highs = [k for k in self.cache if self.cache[k] > timestamp]\n",
    "            if len(highs) > 0:\n",
    "                high = min(highs)\n",
    "        return interpolation_search(self, timestamp, low=low, high=high, how=how)\n",
    "\n",
    "    async def afind_block_at_timestamp(self\n",
    "                                       , timestamp: Union[datetime, int] # timestamp to search for\n",
    "                                       , low: Optional[int]=None # block number to start the search from\n",
    "                                       , high: Optional[int]=None # block number to end the search at\n",
    "                                       , how: Literal['after', 'before'] ='after' # whether to search for the block after or before the timestamp\n",
    "                                       ):\n",
    "        \"\"\"Finds a block at a specific timestamp.\"\"\"\n",
    "        if isinstance(timestamp, datetime):\n",
    "            timestamp = timestamp.timestamp()\n",
    "        how = {'after': 'right', 'before': 'left'}[how]\n",
    "        if high is None:\n",
    "            highs = [k for k in self.cache if self.cache[k] > timestamp]\n",
    "            if len(highs) > 0:\n",
    "                high = min(highs)\n",
    "        return await ainterpolation_search(self, timestamp, low=low, high=high, how=how)\n",
    "\n",
    "    async def abatch_method(self\n",
    "                          , method # method to execute\n",
    "                          , input_list # list of arguments to pass to the method\n",
    "                          , method_args=() # extra arguments to pass to the method\n",
    "                          , method_kwargs={} # extra keyword arguments to pass to the method\n",
    "                          , batch_size=72 # batch size to use\n",
    "                          ):\n",
    "        \"\"\"Execute a method asynchronously in batches.\"\"\"\n",
    "        data = []\n",
    "        for batch in batched(input_list, batch_size):\n",
    "            tasks = [self.eth.__getattr__(method)(*listify(o), *method_args, **method_kwargs) for o in batch]\n",
    "            data.extend(await asyncio.gather(*tasks))\n",
    "        return data\n"
   ]
  },
  {
   "cell_type": "code",
   "execution_count": null,
   "metadata": {},
   "outputs": [
    {
     "data": {
      "text/markdown": [
       "---\n",
       "\n",
       "[source](https://github.com/flashbots/web3-data-tools/blob/main/web3_data_tools/web3.py#L26){target=\"_blank\" style=\"float:right; font-size:smaller\"}\n",
       "\n",
       "### MultiRPCWeb3\n",
       "\n",
       ">      MultiRPCWeb3 (*rpcs, providers=None, poa=False)\n",
       "\n",
       "*Web3 object that tries to execute a method in multiple RPCs until one succeeds.*"
      ],
      "text/plain": [
       "---\n",
       "\n",
       "[source](https://github.com/flashbots/web3-data-tools/blob/main/web3_data_tools/web3.py#L26){target=\"_blank\" style=\"float:right; font-size:smaller\"}\n",
       "\n",
       "### MultiRPCWeb3\n",
       "\n",
       ">      MultiRPCWeb3 (*rpcs, providers=None, poa=False)\n",
       "\n",
       "*Web3 object that tries to execute a method in multiple RPCs until one succeeds.*"
      ]
     },
     "execution_count": null,
     "metadata": {},
     "output_type": "execute_result"
    }
   ],
   "source": [
    "show_doc(MultiRPCWeb3)"
   ]
  },
  {
   "cell_type": "code",
   "execution_count": null,
   "metadata": {},
   "outputs": [
    {
     "data": {
      "text/markdown": [
       "---\n",
       "\n",
       "[source](https://github.com/flashbots/web3-data-tools/blob/main/web3_data_tools/web3.py#L98){target=\"_blank\" style=\"float:right; font-size:smaller\"}\n",
       "\n",
       "### MultiRPCWeb3.sort_providers\n",
       "\n",
       ">      MultiRPCWeb3.sort_providers (tolerance:int=0)\n",
       "\n",
       "*Sort provider by block number, so that the one with the highest block number is first.*\n",
       "\n",
       "|    | **Type** | **Default** | **Details** |\n",
       "| -- | -------- | ----------- | ----------- |\n",
       "| tolerance | int | 0 | number of blocks to consider the same |"
      ],
      "text/plain": [
       "---\n",
       "\n",
       "[source](https://github.com/flashbots/web3-data-tools/blob/main/web3_data_tools/web3.py#L98){target=\"_blank\" style=\"float:right; font-size:smaller\"}\n",
       "\n",
       "### MultiRPCWeb3.sort_providers\n",
       "\n",
       ">      MultiRPCWeb3.sort_providers (tolerance:int=0)\n",
       "\n",
       "*Sort provider by block number, so that the one with the highest block number is first.*\n",
       "\n",
       "|    | **Type** | **Default** | **Details** |\n",
       "| -- | -------- | ----------- | ----------- |\n",
       "| tolerance | int | 0 | number of blocks to consider the same |"
      ]
     },
     "execution_count": null,
     "metadata": {},
     "output_type": "execute_result"
    }
   ],
   "source": [
    "show_doc(MultiRPCWeb3.sort_providers)"
   ]
  },
  {
   "cell_type": "code",
   "execution_count": null,
   "metadata": {},
   "outputs": [
    {
     "data": {
      "text/markdown": [
       "---\n",
       "\n",
       "[source](https://github.com/flashbots/web3-data-tools/blob/main/web3_data_tools/web3.py#L147){target=\"_blank\" style=\"float:right; font-size:smaller\"}\n",
       "\n",
       "### MultiRPCWeb3.__getitem__\n",
       "\n",
       ">      MultiRPCWeb3.__getitem__ (block_number:int)\n",
       "\n",
       "*The user can get the timestamp of a block by using the syntax `web3[block_number]`.*\n",
       "\n",
       "|    | **Type** | **Details** |\n",
       "| -- | -------- | ----------- |\n",
       "| block_number | int | block number to get the timestamp of |"
      ],
      "text/plain": [
       "---\n",
       "\n",
       "[source](https://github.com/flashbots/web3-data-tools/blob/main/web3_data_tools/web3.py#L147){target=\"_blank\" style=\"float:right; font-size:smaller\"}\n",
       "\n",
       "### MultiRPCWeb3.__getitem__\n",
       "\n",
       ">      MultiRPCWeb3.__getitem__ (block_number:int)\n",
       "\n",
       "*The user can get the timestamp of a block by using the syntax `web3[block_number]`.*\n",
       "\n",
       "|    | **Type** | **Details** |\n",
       "| -- | -------- | ----------- |\n",
       "| block_number | int | block number to get the timestamp of |"
      ]
     },
     "execution_count": null,
     "metadata": {},
     "output_type": "execute_result"
    }
   ],
   "source": [
    "show_doc(MultiRPCWeb3.__getitem__)"
   ]
  },
  {
   "cell_type": "code",
   "execution_count": null,
   "metadata": {},
   "outputs": [
    {
     "data": {
      "text/markdown": [
       "---\n",
       "\n",
       "[source](https://github.com/flashbots/web3-data-tools/blob/main/web3_data_tools/web3.py#L177){target=\"_blank\" style=\"float:right; font-size:smaller\"}\n",
       "\n",
       "### MultiRPCWeb3.find_block_at_timestamp\n",
       "\n",
       ">      MultiRPCWeb3.find_block_at_timestamp\n",
       ">                                            (timestamp:Union[datetime.datetime,\n",
       ">                                            int], low:Optional[int]=None,\n",
       ">                                            high:Optional[int]=None, how:Litera\n",
       ">                                            l['after','before']='after')\n",
       "\n",
       "*Finds a block at a specific timestamp.*\n",
       "\n",
       "|    | **Type** | **Default** | **Details** |\n",
       "| -- | -------- | ----------- | ----------- |\n",
       "| timestamp | Union |  | timestamp to search for |\n",
       "| low | Optional | None | block number to start the search from |\n",
       "| high | Optional | None | block number to end the search at |\n",
       "| how | Literal | after | whether to search for the block after or before the timestamp |"
      ],
      "text/plain": [
       "---\n",
       "\n",
       "[source](https://github.com/flashbots/web3-data-tools/blob/main/web3_data_tools/web3.py#L177){target=\"_blank\" style=\"float:right; font-size:smaller\"}\n",
       "\n",
       "### MultiRPCWeb3.find_block_at_timestamp\n",
       "\n",
       ">      MultiRPCWeb3.find_block_at_timestamp\n",
       ">                                            (timestamp:Union[datetime.datetime,\n",
       ">                                            int], low:Optional[int]=None,\n",
       ">                                            high:Optional[int]=None, how:Litera\n",
       ">                                            l['after','before']='after')\n",
       "\n",
       "*Finds a block at a specific timestamp.*\n",
       "\n",
       "|    | **Type** | **Default** | **Details** |\n",
       "| -- | -------- | ----------- | ----------- |\n",
       "| timestamp | Union |  | timestamp to search for |\n",
       "| low | Optional | None | block number to start the search from |\n",
       "| high | Optional | None | block number to end the search at |\n",
       "| how | Literal | after | whether to search for the block after or before the timestamp |"
      ]
     },
     "execution_count": null,
     "metadata": {},
     "output_type": "execute_result"
    }
   ],
   "source": [
    "show_doc(MultiRPCWeb3.find_block_at_timestamp)"
   ]
  },
  {
   "cell_type": "code",
   "execution_count": null,
   "metadata": {},
   "outputs": [
    {
     "data": {
      "text/markdown": [
       "---\n",
       "\n",
       "### MultiRPCWeb3.abatch_method\n",
       "\n",
       ">      MultiRPCWeb3.abatch_method (method, input_list, method_args=(),\n",
       ">                                  method_kwargs={}, batch_size=72)\n",
       "\n",
       "*Execute a method asynchronously in batches.*\n",
       "\n",
       "|    | **Type** | **Default** | **Details** |\n",
       "| -- | -------- | ----------- | ----------- |\n",
       "| method |  |  | method to execute |\n",
       "| input_list |  |  | list of arguments to pass to the method |\n",
       "| method_args | tuple | () | extra arguments to pass to the method |\n",
       "| method_kwargs | dict | {} | extra keyword arguments to pass to the method |\n",
       "| batch_size | int | 72 | batch size to use |"
      ],
      "text/plain": [
       "---\n",
       "\n",
       "### MultiRPCWeb3.abatch_method\n",
       "\n",
       ">      MultiRPCWeb3.abatch_method (method, input_list, method_args=(),\n",
       ">                                  method_kwargs={}, batch_size=72)\n",
       "\n",
       "*Execute a method asynchronously in batches.*\n",
       "\n",
       "|    | **Type** | **Default** | **Details** |\n",
       "| -- | -------- | ----------- | ----------- |\n",
       "| method |  |  | method to execute |\n",
       "| input_list |  |  | list of arguments to pass to the method |\n",
       "| method_args | tuple | () | extra arguments to pass to the method |\n",
       "| method_kwargs | dict | {} | extra keyword arguments to pass to the method |\n",
       "| batch_size | int | 72 | batch size to use |"
      ]
     },
     "execution_count": null,
     "metadata": {},
     "output_type": "execute_result"
    }
   ],
   "source": [
    "show_doc(MultiRPCWeb3.abatch_method)"
   ]
  },
  {
   "cell_type": "markdown",
   "metadata": {},
   "source": [
    "## Example"
   ]
  },
  {
   "cell_type": "code",
   "execution_count": null,
   "metadata": {},
   "outputs": [],
   "source": [
    "from datetime import datetime, timezone, timedelta"
   ]
  },
  {
   "cell_type": "code",
   "execution_count": null,
   "metadata": {},
   "outputs": [],
   "source": [
    "w3 = MultiRPCWeb3.from_rpcs('http://bad_provider:1234', 'http://localhost:8545')\n",
    "test_eq(['http://bad_provider:1234', 'http://localhost:8545'], [p.endpoint_uri for p in w3.providers])\n",
    "w3.sort_providers(tolerance=0)\n",
    "test_eq(['http://localhost:8545', 'http://bad_provider:1234'], [p.endpoint_uri for p in w3.providers])"
   ]
  },
  {
   "cell_type": "code",
   "execution_count": null,
   "metadata": {},
   "outputs": [],
   "source": [
    "w3 = MultiRPCWeb3.from_rpcs('http://localhost:8545')\n",
    "test_eq(len(w3), w3.eth.get_block_number())\n",
    "test_eq(w3.find_block_at_timestamp(datetime(2022, 10, 1, tzinfo=timezone.utc).timestamp(), low=FIRST_POS_BLOCK, how='after'), 15649595)\n",
    "test_fail(w3.find_block_at_timestamp, args=(datetime.today() + timedelta(days=1),), kwargs=dict(low=FIRST_POS_BLOCK, how='after'))"
   ]
  },
  {
   "cell_type": "markdown",
   "metadata": {},
   "source": [
    "## Async Interface"
   ]
  },
  {
   "cell_type": "code",
   "execution_count": null,
   "metadata": {},
   "outputs": [
    {
     "name": "stdout",
     "output_type": "stream",
     "text": [
      "RPC connection http://bad_provider:1234 failed with: Cannot connect to host bad_provider:1234 ssl:default [nodename nor servname provided, or not known]\n",
      "All the RPCs failed to execute 'get_block_number'\n",
      "RPC connection http://bad_provider:1234 failed with: Cannot connect to host bad_provider:1234 ssl:default [nodename nor servname provided, or not known]\n"
     ]
    }
   ],
   "source": [
    "aw3 = MultiRPCWeb3.async_from_rpcs('http://bad_provider:1234', 'http://localhost:8545')\n",
    "test_eq(['http://bad_provider:1234', 'http://localhost:8545'], [p.endpoint_uri for p in aw3.providers])\n",
    "await aw3.asort_providers(tolerance=0)\n",
    "test_eq(['http://localhost:8545', 'http://bad_provider:1234'], [p.endpoint_uri for p in aw3.providers])"
   ]
  },
  {
   "cell_type": "code",
   "execution_count": null,
   "metadata": {},
   "outputs": [],
   "source": [
    "aw3 = MultiRPCWeb3.async_from_rpcs('http://localhost:8545')\n",
    "test_eq(await aw3.alen(), await aw3.eth.get_block_number())\n",
    "test_eq(await aw3.agetitem(19989282), 1717152047)\n",
    "test_eq(await aw3.afind_block_at_timestamp(datetime(2022, 10, 1, tzinfo=timezone.utc).timestamp(), low=FIRST_POS_BLOCK, how='after'), 15649595)"
   ]
  },
  {
   "cell_type": "markdown",
   "metadata": {},
   "source": [
    "### Get Many Blocks Fast with `abatch_method`"
   ]
  },
  {
   "cell_type": "code",
   "execution_count": null,
   "metadata": {},
   "outputs": [],
   "source": [
    "import web3\n",
    "\n",
    "aw3 = MultiRPCWeb3.async_from_rpcs('http://localhost:8545')\n",
    "block_numbers = range(FIRST_POS_BLOCK, FIRST_POS_BLOCK + 72)\n",
    "blocks = await aw3.abatch_method('get_block', block_numbers, method_args=(True,), method_kwargs={}, batch_size=72)\n",
    "test_eq(len(blocks), 72)\n",
    "test_eq(all([isinstance(b, web3.datastructures.AttributeDict) for b in blocks]), True)"
   ]
  },
  {
   "cell_type": "markdown",
   "metadata": {},
   "source": [
    "## Export -"
   ]
  },
  {
   "cell_type": "code",
   "execution_count": null,
   "metadata": {},
   "outputs": [],
   "source": [
    "#| hide\n",
    "import nbdev; nbdev.nbdev_export()"
   ]
  }
 ],
 "metadata": {
  "kernelspec": {
   "display_name": "python3",
   "language": "python",
   "name": "python3"
  }
 },
 "nbformat": 4,
 "nbformat_minor": 2
}
