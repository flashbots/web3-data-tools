{
 "cells": [
  {
   "cell_type": "raw",
   "metadata": {},
   "source": [
    "---\n",
    "skip_showdoc: true\n",
    "skip_exec: true\n",
    "---"
   ]
  },
  {
   "cell_type": "code",
   "execution_count": null,
   "metadata": {},
   "outputs": [],
   "source": [
    "#| default_exp web3"
   ]
  },
  {
   "cell_type": "markdown",
   "metadata": {},
   "source": [
    "# Web3\n",
    "> web3 wrapper"
   ]
  },
  {
   "cell_type": "markdown",
   "metadata": {},
   "source": [
    "## Imports -"
   ]
  },
  {
   "cell_type": "code",
   "execution_count": null,
   "metadata": {},
   "outputs": [],
   "source": [
    "#| hide\n",
    "from nbdev.showdoc import *"
   ]
  },
  {
   "cell_type": "code",
   "execution_count": null,
   "metadata": {},
   "outputs": [],
   "source": [
    "#| export\n",
    "from functools import update_wrapper\n",
    "import inspect\n",
    "\n",
    "from fastcore.all import custom_dir\n",
    "from web3 import Web3, AsyncWeb3"
   ]
  },
  {
   "cell_type": "code",
   "execution_count": null,
   "metadata": {},
   "outputs": [],
   "source": [
    "#| export\n",
    "FIRST_POS_BLOCK = 15537394"
   ]
  },
  {
   "cell_type": "markdown",
   "metadata": {},
   "source": [
    "## MultiRPCWeb3 -"
   ]
  },
  {
   "cell_type": "code",
   "execution_count": null,
   "metadata": {},
   "outputs": [],
   "source": [
    "#| export\n",
    "class MultiRPCWeb3:\n",
    "    \"\"\"Web3 object that tries to execute a method in multiple RPCs until one succeeds.\"\"\"\n",
    "\n",
    "    def __init__(self, *rpcs, providers=None):\n",
    "        self.rpcs = rpcs\n",
    "        self.providers = providers\n",
    "        if not self.providers:\n",
    "            self.providers = []\n",
    "            for rpc in self.rpcs:\n",
    "                if hasattr(rpc, 'provider'):\n",
    "                    self.providers.append(rpc.provider)\n",
    "        # hardcode genesis block timestamp (RPCs don't have it right)\n",
    "        self.cache = {0: 1438269973}\n",
    "\n",
    "    @classmethod \n",
    "    def from_rpcs(obj, *rpcs):\n",
    "        return obj(*[Web3(Web3.HTTPProvider(rpc)) for rpc in rpcs])\n",
    "\n",
    "    @classmethod \n",
    "    def async_from_rpcs(obj, *rpcs):\n",
    "        return obj(*[AsyncWeb3(AsyncWeb3.AsyncHTTPProvider(rpc)) for rpc in rpcs])\n",
    "    \n",
    "    def __dir__(self): return custom_dir(self, add=self.rpcs[0].__dir__())\n",
    "        \n",
    "    def __getattr__(self, attr):\n",
    "\n",
    "        def wrapper(*args, **kwargs):\n",
    "            for i, (provider, rpc) in enumerate(zip(self.providers, self.rpcs)):\n",
    "                try:\n",
    "                    return rpc.__getattribute__(attr)(*args, **kwargs)\n",
    "                except Exception as e:\n",
    "                    print(f'RPC {provider} failed')\n",
    "                    if i < len(self.providers) - 1:\n",
    "                        print(f'Trying RPC {self.providers[i+1]}')\n",
    "                    else:\n",
    "                        print(f\"All the RPCs failed to execute '{attr}'\")\n",
    "                        raise e\n",
    "\n",
    "        async def awrapper(*args, **kwargs):\n",
    "            for i, (provider, rpc) in enumerate(zip(self.providers, self.rpcs)):\n",
    "                try:\n",
    "                    return await rpc.__getattribute__(attr)(*args, **kwargs)\n",
    "                except Exception as e:\n",
    "                    print(f'RPC {provider} failed')\n",
    "                    if i < len(self.providers) - 1:\n",
    "                        print(f'Trying RPC {self.providers[i+1]}')\n",
    "                    else:\n",
    "                        print(f\"All the RPCs failed to execute '{attr}'\")\n",
    "                        raise e\n",
    "\n",
    "        for rpc in self.rpcs:\n",
    "            rpc_attr = rpc.__getattribute__(attr)\n",
    "            if callable(rpc_attr) and not inspect.iscoroutinefunction(rpc_attr):\n",
    "                return update_wrapper(wrapper, rpc_attr)\n",
    "            elif inspect.iscoroutinefunction(rpc_attr):\n",
    "                return update_wrapper(awrapper, rpc_attr)\n",
    "            elif attr in rpc.__dict__:\n",
    "                return MultiRPCWeb3(*[rpc.__getattribute__(attr) for rpc in self.rpcs], providers=self.providers)\n",
    "            elif attr in self.__dict__:\n",
    "                return self.__getattribute__(attr)\n",
    "        raise AttributeError(f\"Attribute '{attr}' not found in any of the RPCs\")\n",
    "\n",
    "    def sort_providers(self, tolerance=0):\n",
    "        \"\"\"Sort provider by block number, so that the one with the highest block number is first.\"\"\"\n",
    "        rpcs = self.rpcs[:]\n",
    "        providers = self.providers[:]\n",
    "        last_block_number = []\n",
    "        for i, (rpc, provider) in enumerate(zip(rpcs, providers)):\n",
    "            self.rpcs = [rpc]\n",
    "            self.providers = [provider]\n",
    "            try:\n",
    "                block_number = self.eth.get_block_number()\n",
    "                last_block_number.append(block_number)\n",
    "            except Exception as e:\n",
    "                print(f'RPC {provider} failed')\n",
    "                last_block_number.append(-1)\n",
    "        max_block_number = max(last_block_number)\n",
    "        for i in range(len(last_block_number)):\n",
    "            if last_block_number[i] >= max_block_number - tolerance:\n",
    "                last_block_number[i] = max_block_number\n",
    "        index = sorted(range(len(last_block_number)), key=lambda k: last_block_number[k], reverse=True)\n",
    "        self.rpcs = [rpcs[i] for i in index]\n",
    "        self.providers = [providers[i] for i in index]\n",
    "\n",
    "\n",
    "    def __getitem__(self, block_number):\n",
    "        \"\"\"The user can get the timestamp of a block by using the syntax `web3[block_number]`.\"\"\"\n",
    "        if block_number in self.cache:\n",
    "            return self.cache[block_number]\n",
    "        if block_number==-1:\n",
    "            block_number = 'latest'\n",
    "        block = self.eth.get_block(block_number)\n",
    "        if block_number=='latest':\n",
    "            block_number = block['number']\n",
    "        self.cache[block_number] = block['timestamp']\n",
    "        return block['timestamp']\n",
    "    \n",
    "    def __len__(self):\n",
    "        return self.eth.get_block_number()"
   ]
  },
  {
   "cell_type": "code",
   "execution_count": null,
   "metadata": {},
   "outputs": [
    {
     "data": {
      "text/markdown": [
       "---\n",
       "\n",
       "[source](https://github.com/flashbots/web3-data-tools/blob/main/web3_data_tools/web3.py#L17){target=\"_blank\" style=\"float:right; font-size:smaller\"}\n",
       "\n",
       "### MultiRPCWeb3\n",
       "\n",
       ">      MultiRPCWeb3 (*rpcs, providers=None)\n",
       "\n",
       "Web3 object that tries to execute a method in multiple RPCs until one succeeds."
      ],
      "text/plain": [
       "---\n",
       "\n",
       "[source](https://github.com/flashbots/web3-data-tools/blob/main/web3_data_tools/web3.py#L17){target=\"_blank\" style=\"float:right; font-size:smaller\"}\n",
       "\n",
       "### MultiRPCWeb3\n",
       "\n",
       ">      MultiRPCWeb3 (*rpcs, providers=None)\n",
       "\n",
       "Web3 object that tries to execute a method in multiple RPCs until one succeeds."
      ]
     },
     "execution_count": null,
     "metadata": {},
     "output_type": "execute_result"
    }
   ],
   "source": [
    "show_doc(MultiRPCWeb3)"
   ]
  },
  {
   "cell_type": "code",
   "execution_count": null,
   "metadata": {},
   "outputs": [
    {
     "data": {
      "text/markdown": [
       "---\n",
       "\n",
       "[source](https://github.com/flashbots/web3-data-tools/blob/main/web3_data_tools/web3.py#L79){target=\"_blank\" style=\"float:right; font-size:smaller\"}\n",
       "\n",
       "### MultiRPCWeb3.sort_providers\n",
       "\n",
       ">      MultiRPCWeb3.sort_providers (tolerance=0)\n",
       "\n",
       "Sort provider by block number, so that the one with the highest block number is first."
      ],
      "text/plain": [
       "---\n",
       "\n",
       "[source](https://github.com/flashbots/web3-data-tools/blob/main/web3_data_tools/web3.py#L79){target=\"_blank\" style=\"float:right; font-size:smaller\"}\n",
       "\n",
       "### MultiRPCWeb3.sort_providers\n",
       "\n",
       ">      MultiRPCWeb3.sort_providers (tolerance=0)\n",
       "\n",
       "Sort provider by block number, so that the one with the highest block number is first."
      ]
     },
     "execution_count": null,
     "metadata": {},
     "output_type": "execute_result"
    }
   ],
   "source": [
    "show_doc(MultiRPCWeb3.sort_providers)"
   ]
  },
  {
   "cell_type": "markdown",
   "metadata": {},
   "source": [
    "## Example"
   ]
  },
  {
   "cell_type": "code",
   "execution_count": null,
   "metadata": {},
   "outputs": [],
   "source": [
    "w3 = MultiRPCWeb3.async_from_rpcs('http://rpc1:1235', 'http://rpc2:2345')"
   ]
  },
  {
   "cell_type": "code",
   "execution_count": null,
   "metadata": {},
   "outputs": [],
   "source": [
    "import os\n",
    "RPC1 = os.environ['RPC1']\n",
    "RPC2 = os.environ['RPC2']\n",
    "w3 = MultiRPCWeb3.from_rpcs(RPC1, RPC2)"
   ]
  },
  {
   "cell_type": "code",
   "execution_count": null,
   "metadata": {},
   "outputs": [],
   "source": [
    "w3.sort_providers(tolerance=5)"
   ]
  },
  {
   "cell_type": "code",
   "execution_count": null,
   "metadata": {},
   "outputs": [
    {
     "data": {
      "text/plain": [
       "18129311"
      ]
     },
     "execution_count": null,
     "metadata": {},
     "output_type": "execute_result"
    }
   ],
   "source": [
    "len(w3)"
   ]
  },
  {
   "cell_type": "code",
   "execution_count": null,
   "metadata": {},
   "outputs": [
    {
     "data": {
      "text/plain": [
       "17957091"
      ]
     },
     "execution_count": null,
     "metadata": {},
     "output_type": "execute_result"
    }
   ],
   "source": [
    "from web3_data_tools.core import interpolation_search\n",
    "interpolation_search(w3, 1692548195, low=FIRST_POS_BLOCK)"
   ]
  },
  {
   "cell_type": "markdown",
   "metadata": {},
   "source": [
    "## Export -"
   ]
  },
  {
   "cell_type": "code",
   "execution_count": null,
   "metadata": {},
   "outputs": [],
   "source": [
    "#| hide\n",
    "import nbdev; nbdev.nbdev_export()"
   ]
  }
 ],
 "metadata": {
  "kernelspec": {
   "display_name": "python3",
   "language": "python",
   "name": "python3"
  }
 },
 "nbformat": 4,
 "nbformat_minor": 2
}
