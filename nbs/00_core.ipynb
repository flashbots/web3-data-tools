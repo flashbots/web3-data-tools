{
 "cells": [
  {
   "cell_type": "markdown",
   "metadata": {},
   "source": [
    "# core\n",
    "\n",
    "> core functions"
   ]
  },
  {
   "cell_type": "raw",
   "metadata": {},
   "source": [
    "---\n",
    "skip_exec: true\n",
    "---"
   ]
  },
  {
   "cell_type": "code",
   "execution_count": null,
   "metadata": {},
   "outputs": [],
   "source": [
    "#| default_exp core"
   ]
  },
  {
   "cell_type": "code",
   "execution_count": null,
   "metadata": {},
   "outputs": [],
   "source": [
    "#| hide\n",
    "from nbdev.showdoc import *"
   ]
  },
  {
   "cell_type": "code",
   "execution_count": null,
   "metadata": {},
   "outputs": [],
   "source": [
    "#| export \n",
    "def interpolation_search(o, target, low=None, high=None, how='left'):\n",
    "    \"\"\"Interpolation search algorithm to find the closest value to `target` in the sorted list `o`.\"\"\"\n",
    "\n",
    "    assert how in ['left', 'right']\n",
    "\n",
    "    if low is None:\n",
    "        low = 0\n",
    "    if high is None:\n",
    "        high = len(o)\n",
    "    \n",
    "    assert o[low] <= target <= o[high]\n",
    "\n",
    "    pos = low + ((int(target) - o[low]) * (high - low)) // (o[high] - o[low])\n",
    "\n",
    "    if o[pos] < target:\n",
    "        if o[pos + 1] > target:\n",
    "            if how=='left':\n",
    "                return pos\n",
    "            else:\n",
    "                return pos + 1\n",
    "        return interpolation_search(o, target, pos + 1, high, how=how)\n",
    "    else:\n",
    "        if o[pos - 1] < target:\n",
    "            if how=='right':\n",
    "                return pos\n",
    "            else:\n",
    "                return pos - 1\n",
    "        return interpolation_search(o, target, low, pos - 1, how=how)"
   ]
  },
  {
   "cell_type": "code",
   "execution_count": null,
   "metadata": {},
   "outputs": [],
   "source": [
    "#| hide\n",
    "import nbdev; nbdev.nbdev_export()"
   ]
  }
 ],
 "metadata": {
  "kernelspec": {
   "display_name": "python3",
   "language": "python",
   "name": "python3"
  }
 },
 "nbformat": 4,
 "nbformat_minor": 4
}
