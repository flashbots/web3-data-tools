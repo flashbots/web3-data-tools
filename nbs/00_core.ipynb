{
 "cells": [
  {
   "cell_type": "markdown",
   "metadata": {},
   "source": [
    "# core\n",
    "\n",
    "> Fill in a module description here"
   ]
  },
  {
   "cell_type": "raw",
   "metadata": {},
   "source": [
    "---\n",
    "skip_exec: true\n",
    "---"
   ]
  },
  {
   "cell_type": "code",
   "execution_count": null,
   "metadata": {},
   "outputs": [],
   "source": [
    "#| default_exp core"
   ]
  },
  {
   "cell_type": "code",
   "execution_count": null,
   "metadata": {},
   "outputs": [],
   "source": [
    "#| hide\n",
    "from nbdev.showdoc import *"
   ]
  },
  {
   "cell_type": "code",
   "execution_count": null,
   "metadata": {},
   "outputs": [],
   "source": [
    "#| export\n",
    "from datetime import datetime\n",
    "import inspect\n",
    "\n",
    "from web3 import Web3, AsyncWeb3"
   ]
  },
  {
   "cell_type": "code",
   "execution_count": null,
   "metadata": {},
   "outputs": [],
   "source": [
    "#| export\n",
    "class MultiRPCWeb3:\n",
    "    \"\"\"Web3 object that tries to execute a method in multiple RPCs until one succeeds.\"\"\"\n",
    "\n",
    "    def __init__(self, *rpcs, providers=None):\n",
    "        self.rpcs = rpcs\n",
    "        self.providers = providers\n",
    "        if not self.providers:\n",
    "            self.providers = []\n",
    "            for rpc in self.rpcs:\n",
    "                if hasattr(rpc, 'provider'):\n",
    "                    self.providers.append(rpc.provider)\n",
    "\n",
    "    @classmethod \n",
    "    def from_rpcs(obj, *rpcs):\n",
    "        return obj(*[Web3(Web3.HTTPProvider(rpc)) for rpc in rpcs])\n",
    "\n",
    "    @classmethod \n",
    "    def async_from_rpcs(obj, *rpcs):\n",
    "        return obj(*[AsyncWeb3(AsyncWeb3.AsyncHTTPProvider(rpc)) for rpc in rpcs])\n",
    "        \n",
    "\n",
    "    def __getattr__(self, attr):\n",
    "\n",
    "        def wrapper(*args, **kwargs):\n",
    "            for i, (provider, rpc) in enumerate(zip(self.providers, self.rpcs)):\n",
    "                try:\n",
    "                    return rpc.__getattribute__(attr)(*args, **kwargs)\n",
    "                except Exception as e:\n",
    "                    print(f'RPC {provider} failed')\n",
    "                    if i < len(self.providers) - 1:\n",
    "                        print(f'Trying RPC {self.providers[i+1]}')\n",
    "                    else:\n",
    "                        print(f\"All the RPCs failed to execute '{attr}'\")\n",
    "                        raise e\n",
    "\n",
    "        async def awrapper(*args, **kwargs):\n",
    "            for i, (provider, rpc) in enumerate(zip(self.providers, self.rpcs)):\n",
    "                try:\n",
    "                    return await rpc.__getattribute__(attr)(*args, **kwargs)\n",
    "                except Exception as e:\n",
    "                    print(f'RPC {provider} failed')\n",
    "                    if i < len(self.providers) - 1:\n",
    "                        print(f'Trying RPC {self.providers[i+1]}')\n",
    "                    else:\n",
    "                        print(f\"All the RPCs failed to execute '{attr}'\")\n",
    "                        raise e\n",
    "\n",
    "        for rpc in self.rpcs:\n",
    "            rpc_attr = rpc.__getattribute__(attr)\n",
    "            if callable(rpc_attr) and not inspect.iscoroutinefunction(rpc_attr):\n",
    "                return wrapper\n",
    "            elif inspect.iscoroutinefunction(rpc_attr):\n",
    "                return awrapper\n",
    "            elif attr in rpc.__dict__:\n",
    "                return MultiRPCWeb3(*[rpc.__getattribute__(attr) for rpc in self.rpcs], providers=self.providers)\n",
    "            elif attr in self.__dict__:\n",
    "                return self.__getattribute__(attr)\n",
    "        raise AttributeError(f\"Attribute '{attr}' not found in any of the RPCs\")"
   ]
  },
  {
   "cell_type": "code",
   "execution_count": null,
   "metadata": {},
   "outputs": [],
   "source": [
    "w3 = MultiRPCWeb3.from_rpcs('http://rpc1:1235', 'http://rpc2:2345')"
   ]
  },
  {
   "cell_type": "code",
   "execution_count": null,
   "metadata": {},
   "outputs": [],
   "source": [
    "block_number = w3.eth.get_block('latest')['number']\n",
    "block_number"
   ]
  },
  {
   "cell_type": "code",
   "execution_count": null,
   "metadata": {},
   "outputs": [],
   "source": [
    "#| export\n",
    "class BlockTimestamps:\n",
    "    \"\"\"List like object timestamp[block_number] with cache\"\"\"\n",
    "    def __init__(self, w3):\n",
    "        self.w3 = w3\n",
    "        self.cache = {}\n",
    "\n",
    "    def __getitem__(self, block_number):\n",
    "        if block_number in self.cache:\n",
    "            return self.cache[block_number]\n",
    "        block = self.w3.eth.get_block(block_number)\n",
    "        if block_number=='latest':\n",
    "            block_number = block['number']\n",
    "        self.cache[block_number] = block['timestamp']\n",
    "        return block['timestamp']"
   ]
  },
  {
   "cell_type": "code",
   "execution_count": null,
   "metadata": {},
   "outputs": [],
   "source": [
    "block_timestamps = BlockTimestamps(w3)"
   ]
  },
  {
   "cell_type": "code",
   "execution_count": null,
   "metadata": {},
   "outputs": [],
   "source": [
    "#| export \n",
    "def interpolation_search(o, timestamp, low=None, high=None, how='left'):\n",
    "    \"\"\"Interpolation search algorithm to find the block number of a timestamp in a BlockTimestamps object.\"\"\"\n",
    "\n",
    "    assert how in ['left', 'right']\n",
    "\n",
    "    if low is None:\n",
    "        # first PoS block\n",
    "        low = 15537394\n",
    "    if high is None:\n",
    "        high_timestamp = o['latest']\n",
    "        high = max(o.cache.keys())\n",
    "    \n",
    "    assert o[low] <= timestamp <= o[high]\n",
    "\n",
    "    pos = low + ((int(timestamp) - o[low]) * (high - low)) // (o[high] - o[low])\n",
    "\n",
    "    if o[pos] < timestamp:\n",
    "        if o[pos + 1] > timestamp:\n",
    "            if how=='left':\n",
    "                return pos\n",
    "            else:\n",
    "                return pos + 1\n",
    "        return interpolation_search(o, timestamp, pos + 1, high, how=how)\n",
    "    else:\n",
    "        if o[pos - 1] < timestamp:\n",
    "            if how=='right':\n",
    "                return pos\n",
    "            else:\n",
    "                return pos - 1\n",
    "        return interpolation_search(o, timestamp, low, pos - 1, how=how)"
   ]
  },
  {
   "cell_type": "code",
   "execution_count": null,
   "metadata": {},
   "outputs": [],
   "source": [
    "interpolation_search(block_timestamps, 1692548195)"
   ]
  },
  {
   "cell_type": "code",
   "execution_count": null,
   "metadata": {},
   "outputs": [],
   "source": [
    "#| hide\n",
    "import nbdev; nbdev.nbdev_export()"
   ]
  }
 ],
 "metadata": {
  "kernelspec": {
   "display_name": "python3",
   "language": "python",
   "name": "python3"
  }
 },
 "nbformat": 4,
 "nbformat_minor": 4
}
