{
 "cells": [
  {
   "cell_type": "markdown",
   "metadata": {},
   "source": [
    "# core\n",
    "\n",
    "> core functions"
   ]
  },
  {
   "cell_type": "raw",
   "metadata": {},
   "source": [
    "---\n",
    "skip_exec: true\n",
    "---"
   ]
  },
  {
   "cell_type": "code",
   "execution_count": null,
   "metadata": {},
   "outputs": [],
   "source": [
    "#| default_exp core"
   ]
  },
  {
   "cell_type": "code",
   "execution_count": null,
   "metadata": {},
   "outputs": [],
   "source": [
    "#| export\n",
    "from itertools import islice"
   ]
  },
  {
   "cell_type": "code",
   "execution_count": null,
   "metadata": {},
   "outputs": [],
   "source": [
    "#| hide\n",
    "from nbdev.showdoc import *"
   ]
  },
  {
   "cell_type": "code",
   "execution_count": null,
   "metadata": {},
   "outputs": [],
   "source": [
    "#| export \n",
    "def interpolation_search(o, target, low=None, high=None, how='left'):\n",
    "    \"\"\"Interpolation search algorithm to find the closest value to `target` in the sorted list `o`.\"\"\"\n",
    "\n",
    "    assert how in ['left', 'right']\n",
    "\n",
    "    if low is None:\n",
    "        low = 0\n",
    "    if high is None:\n",
    "        high = len(o)\n",
    "    \n",
    "    assert o[low] <= target, f'Target {target} is smaller than the lowest value in the list, {o[low]}. low={low}'\n",
    "    assert target <= o[high], f'Target {target} is larger than the highest value in the list, {o[high]}. high={high}'\n",
    "\n",
    "    pos = low + ((int(target) - o[low]) * (high - low)) // (o[high] - o[low])\n",
    "\n",
    "    if o[pos] < target:\n",
    "        if o[pos + 1] > target:\n",
    "            if how=='left':\n",
    "                return pos\n",
    "            else:\n",
    "                return pos + 1\n",
    "        return interpolation_search(o, target, pos + 1, high, how=how)\n",
    "    else:\n",
    "        if o[pos - 1] < target:\n",
    "            if how=='right':\n",
    "                return pos\n",
    "            else:\n",
    "                return pos - 1\n",
    "        return interpolation_search(o, target, low, pos - 1, how=how)"
   ]
  },
  {
   "cell_type": "code",
   "execution_count": 2,
   "metadata": {},
   "outputs": [],
   "source": [
    "#| export\n",
    "def batched(iterable, n):\n",
    "    \"Batch data into tuples of length n. The last batch may be shorter.\"\n",
    "    # batched('ABCDEFG', 3) --> ABC DEF G\n",
    "\n",
    "    if n < 1:\n",
    "        raise ValueError('n must be at least one')\n",
    "    it = iter(iterable)\n",
    "    while batch := tuple(islice(it, n)):\n",
    "        yield batch"
   ]
  },
  {
   "cell_type": "code",
   "execution_count": 4,
   "metadata": {},
   "outputs": [],
   "source": [
    "#| hide\n",
    "import nbdev; nbdev.nbdev_export()"
   ]
  }
 ],
 "metadata": {
  "kernelspec": {
   "display_name": "python3",
   "language": "python",
   "name": "python3"
  },
  "language_info": {
   "codemirror_mode": {
    "name": "ipython",
    "version": 3
   },
   "file_extension": ".py",
   "mimetype": "text/x-python",
   "name": "python",
   "nbconvert_exporter": "python",
   "pygments_lexer": "ipython3",
   "version": "3.12.3"
  }
 },
 "nbformat": 4,
 "nbformat_minor": 4
}
