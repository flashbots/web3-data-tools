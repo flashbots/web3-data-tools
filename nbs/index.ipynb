{
 "cells": [
  {
   "cell_type": "raw",
   "metadata": {},
   "source": [
    "---\n",
    "skip_exec: true\n",
    "---"
   ]
  },
  {
   "cell_type": "code",
   "execution_count": null,
   "metadata": {},
   "outputs": [],
   "source": [
    "#| hide\n",
    "from web3_data_tools.core import *"
   ]
  },
  {
   "cell_type": "markdown",
   "metadata": {},
   "source": [
    "# web3-data-tools\n",
    "\n",
    "> Data tools for Web3"
   ]
  },
  {
   "cell_type": "markdown",
   "metadata": {},
   "source": [
    "## Install"
   ]
  },
  {
   "cell_type": "markdown",
   "metadata": {},
   "source": [
    "```sh\n",
    "pip install web3_data_tools\n",
    "```"
   ]
  },
  {
   "cell_type": "markdown",
   "metadata": {},
   "source": [
    "## How to use"
   ]
  },
  {
   "cell_type": "code",
   "execution_count": null,
   "metadata": {},
   "outputs": [],
   "source": [
    "from web3_data_tools.core import *"
   ]
  },
  {
   "cell_type": "code",
   "execution_count": null,
   "metadata": {},
   "outputs": [],
   "source": [
    "w3 = MultiRPCWeb3.from_rpcs('http://fail_rpc', 'http://localhost:5919')"
   ]
  },
  {
   "cell_type": "code",
   "execution_count": null,
   "metadata": {},
   "outputs": [],
   "source": [
    "block_timestamps = BlockTimestamps(w3)"
   ]
  },
  {
   "cell_type": "code",
   "execution_count": null,
   "metadata": {},
   "outputs": [
    {
     "name": "stdout",
     "output_type": "stream",
     "text": [
      "RPC RPC connection http://fail_rpc failed\n",
      "Trying RPC RPC connection http://localhost:5919\n",
      "RPC RPC connection http://fail_rpc failed\n",
      "Trying RPC RPC connection http://localhost:5919\n",
      "RPC RPC connection http://fail_rpc failed\n",
      "Trying RPC RPC connection http://localhost:5919\n",
      "RPC RPC connection http://fail_rpc failed\n",
      "Trying RPC RPC connection http://localhost:5919\n",
      "RPC RPC connection http://fail_rpc failed\n",
      "Trying RPC RPC connection http://localhost:5919\n",
      "RPC RPC connection http://fail_rpc failed\n",
      "Trying RPC RPC connection http://localhost:5919\n",
      "RPC RPC connection http://fail_rpc failed\n",
      "Trying RPC RPC connection http://localhost:5919\n"
     ]
    },
    {
     "data": {
      "text/plain": [
       "17957091"
      ]
     },
     "execution_count": null,
     "metadata": {},
     "output_type": "execute_result"
    }
   ],
   "source": [
    "\n",
    "interpolation_search(block_timestamps, 1692548195)"
   ]
  }
 ],
 "metadata": {
  "kernelspec": {
   "display_name": "python3",
   "language": "python",
   "name": "python3"
  }
 },
 "nbformat": 4,
 "nbformat_minor": 4
}
